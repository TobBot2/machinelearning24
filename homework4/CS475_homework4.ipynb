{
  "cells": [
    {
      "cell_type": "markdown",
      "metadata": {
        "id": "cW-xAnCG-r30"
      },
      "source": [
        "# **Homework 4 Practicum**\n",
        "# Version 1.0 (Nov 1, 2024)"
      ]
    },
    {
      "cell_type": "markdown",
      "metadata": {
        "id": "3x3Od3Zm-r32"
      },
      "source": [
        "<font color='blue'> TODO:</font> Name (JHED)"
      ]
    },
    {
      "cell_type": "markdown",
      "metadata": {
        "id": "fxIEbBNG-r33"
      },
      "source": [
        "Instructions:\n",
        "This notebook has two parts:\n",
        "\n",
        "Part 1: Implement Belief propagation or sum-product message passing.\n",
        "\n",
        "Part 2: Implement KMeans Clustering.\n",
        "\n",
        "Please note that in this practicum, we only require code implementation without any usual questions.\n",
        "\n",
        "Please <font color='blue'>make a copy of this notebook in your own drive</font> before you make any edits. You can do so through File -> Save a copy in Drive\n",
        "\n",
        "NOTE: Submit notebook on gradescope. You can run autograder as many times as needed.\n",
        "\n"
      ]
    },
    {
      "cell_type": "code",
      "execution_count": null,
      "metadata": {
        "id": "Mi2Zmd6h-r34"
      },
      "outputs": [],
      "source": [
        "import numpy as np\n",
        "import matplotlib.pyplot as plt\n",
        "from sklearn.datasets import make_blobs\n",
        "from sklearn.model_selection import train_test_split\n",
        "from sklearn.metrics import silhouette_score\n",
        "import random\n",
        "\n",
        "random.seed(42)\n",
        "np.random.seed(42)\n",
        "\n"
      ]
    },
    {
      "cell_type": "markdown",
      "metadata": {
        "deletable": false,
        "editable": false,
        "id": "PgCuKy_x-r34"
      },
      "source": [
        "\n",
        "# **PART I: Sum Product Message Passing**"
      ]
    },
    {
      "cell_type": "markdown",
      "metadata": {
        "deletable": false,
        "editable": false,
        "id": "itgyBXMY-r36"
      },
      "source": [
        "Things to do in this part:\n",
        "1. Implement send_messages of BeliefPropagation class\n",
        "\n",
        "\n",
        "In this section, please implement belief propagation for Trees\n",
        "\n",
        "\n",
        "\n"
      ]
    },
    {
      "cell_type": "code",
      "execution_count": null,
      "metadata": {
        "deletable": false,
        "editable": false,
        "id": "P1dnEuyo-r36"
      },
      "outputs": [],
      "source": [
        "\n",
        "class Node:\n",
        "    \"\"\"\n",
        "    A class representing a node in a Bayesian network.\n",
        "\n",
        "    Attributes:\n",
        "        name (str): The name of the node.\n",
        "        children (list): A list of child nodes.\n",
        "        parent (Node): The parent node (if any).\n",
        "        potential (np.ndarray): The potential distribution of the node.\n",
        "        messages (dict): A dictionary to store messages from other nodes.\n",
        "    \"\"\"\n",
        "    def __init__(self, name, potential=None):\n",
        "        self.name = name\n",
        "        self.children = []\n",
        "        self.parent = None\n",
        "        self.potential = np.array([1.0, 1.0]) if  potential is None else potential\n",
        "        self.messages = {}  # Optional: Use store messages from other nodes\n",
        "\n",
        "    def __str__(self):\n",
        "        \"\"\"\n",
        "        Returns a string representation of the node.\n",
        "\n",
        "        Returns:\n",
        "            str: A string representation of the node.\n",
        "        \"\"\"\n",
        "        return f\"{self.name}: {self.potential}\"\n",
        "\n",
        "    def add_child(self, child_node):\n",
        "        \"\"\"\n",
        "        Adds a child node to the current node.\n",
        "\n",
        "        Parameters:\n",
        "            child_node (Node): The child node to be added.\n",
        "        \"\"\"\n",
        "        self.children.append(child_node)\n",
        "        child_node.parent = self\n"
      ]
    },
    {
      "cell_type": "code",
      "execution_count": null,
      "metadata": {
        "tags": [],
        "id": "MZjHPiCL-r36"
      },
      "outputs": [],
      "source": [
        "class BeliefPropagation:\n",
        "    \"\"\"\n",
        "    A class representing the Belief Propagation algorithm.\n",
        "\n",
        "    Attributes:\n",
        "        root (Node): The root node of the Bayesian network.\n",
        "    \"\"\"\n",
        "    def __init__(self, root):\n",
        "        \"\"\"\n",
        "        Initializes the BeliefPropagation object.\n",
        "\n",
        "        Parameters:\n",
        "            root (Node): The root node of the Bayesian network.\n",
        "        \"\"\"\n",
        "        self.root = root\n",
        "\n",
        "    def send_messages(self, node):\n",
        "        \"\"\"\n",
        "        Implement the send_messages method for Belief Propagation.\n",
        "\n",
        "        Parameters:\n",
        "            node (Node): The node from which messages are sent.\n",
        "        \"\"\"\n",
        "        # TODO ...WRITE YOUR CODE HERE...\n",
        "        ...\n",
        "\n",
        "\n",
        "\n",
        "\n",
        "    def belief_propagation(self):\n",
        "        \"\"\"\n",
        "        Perform belief propagation to calculate the marginal distribution of the root node.\n",
        "\n",
        "        Returns:\n",
        "            np.ndarray: The marginal distribution of the root node.\n",
        "        \"\"\"\n",
        "        if not self.root.children:\n",
        "            return self.root.potential\n",
        "\n",
        "        self.send_messages(self.root)\n",
        "\n",
        "        return self.root.potential\n"
      ]
    },
    {
      "cell_type": "code",
      "execution_count": null,
      "metadata": {
        "deletable": false,
        "editable": false,
        "id": "qu93w09b-r37"
      },
      "outputs": [],
      "source": [
        "def test_bp():\n",
        "        # Create a simple tree structure\n",
        "        root = Node(\"Root\",None)\n",
        "        child1 = Node(\"Child1\", potential=np.array([0.3, 0.7]))\n",
        "        child2 = Node(\"Child2\", potential=np.array([0.6, 0.4]))\n",
        "        leaf1 = Node(\"Leaf1\", potential=np.array([0.8, 0.2]))\n",
        "        leaf2 = Node(\"Leaf2\", potential=np.array([0.8, 0.2]))\n",
        "\n",
        "        # Build the tree\n",
        "        root.add_child(child1)\n",
        "        root.add_child(child2)\n",
        "        child1.add_child(leaf1)\n",
        "        child1.add_child(leaf2)\n",
        "\n",
        "        # Run belief propagation\n",
        "        bp = BeliefPropagation(root)\n",
        "        root_marginal = bp.belief_propagation()\n",
        "\n",
        "        # Output the marginal at the root\n",
        "        print(\"Marginal at the root:\", root_marginal)\n",
        "        print(\"Sum of the marginal:\", np.sum(root_marginal))\n",
        "\n",
        "test_bp()"
      ]
    },
    {
      "cell_type": "markdown",
      "metadata": {
        "deletable": false,
        "editable": false,
        "id": "H93hSvY--r38"
      },
      "source": [
        "\n",
        "# **PART II: KMeans Clustering**\n",
        "Things to do in this part:\n",
        "1. Implement fit and predict methods of Kmeans class.\n",
        "\n"
      ]
    },
    {
      "cell_type": "markdown",
      "metadata": {
        "deletable": false,
        "editable": false,
        "id": "Jvn-lHUO-r38"
      },
      "source": [
        "### Synthetic Dataset Generation\n"
      ]
    },
    {
      "cell_type": "code",
      "execution_count": null,
      "metadata": {
        "deletable": false,
        "editable": false,
        "id": "S2-rnwbB-r39"
      },
      "outputs": [],
      "source": [
        "# Create a synthetic dataset with specific number of clusters\n",
        "def create_dataset(num_clusters=4,num_samples=500):\n",
        "  X, y_true = make_blobs(n_samples=num_samples, centers=num_clusters, cluster_std=1.0, random_state=42)\n",
        "  # Split the dataset into a training set and a testing set\n",
        "  X_train, X_test, y_train, y_test = train_test_split(X, y_true, test_size=0.3, random_state=42)\n",
        "  return X_train, X_test, y_train, y_test\n",
        "\n"
      ]
    },
    {
      "cell_type": "code",
      "execution_count": null,
      "metadata": {
        "tags": [],
        "id": "U8VZ8IxI-r39"
      },
      "outputs": [],
      "source": [
        "class KMeans:\n",
        "    \"\"\"\n",
        "    KMeans clustering algorithm implementation.\n",
        "\n",
        "    Parameters:\n",
        "        n_clusters (int): The number of clusters to form. Defaults to 3.\n",
        "        max_iters (int): The maximum number of iterations for the algorithm. Defaults to 100.\n",
        "\n",
        "    Attributes:\n",
        "        n_clusters (int): The number of clusters.\n",
        "        max_iters (int): The maximum number of iterations.\n",
        "        centroids (np.ndarray): The cluster centroids.\n",
        "    \"\"\"\n",
        "    def __init__(self, n_clusters=4, max_iters=1000):\n",
        "        \"\"\"\n",
        "        Initializes the KMeans object.\n",
        "\n",
        "        Parameters:\n",
        "            n_clusters (int): The number of clusters to form. Defaults to 3.\n",
        "            max_iters (int): The maximum number of iterations for the algorithm. Defaults to 100.\n",
        "        \"\"\"\n",
        "        self.n_clusters = n_clusters\n",
        "        self.max_iters = max_iters\n",
        "        self.centroids = None\n",
        "\n",
        "    def fit(self, X):\n",
        "        \"\"\"\n",
        "        Fits the KMeans model to the data.\n",
        "\n",
        "        Parameters:\n",
        "            X (np.ndarray): The input data.\n",
        "        \"\"\"\n",
        "        # TODO ...WRITE YOUR CODE HERE...\n",
        "        ...\n",
        "\n",
        "    def predict(self, X):\n",
        "        \"\"\"\n",
        "        Predicts the cluster assignments for new data points.\n",
        "\n",
        "        Parameters:\n",
        "            X (np.ndarray): The new data points.\n",
        "\n",
        "        Returns:\n",
        "            np.ndarray: The cluster assignments for each data point.\n",
        "        \"\"\"\n",
        "        # TODO ...WRITE YOUR CODE HERE...\n",
        "        ...\n",
        "\n",
        "    def accuracy(self, X, true_labels):\n",
        "        \"\"\"\n",
        "        Calculates the silhouette score of the clustering.\n",
        "\n",
        "        The silhouette score is a measure of how similar an object is to its own cluster\n",
        "        compared to other clusters. A high silhouette score indicates that the objects\n",
        "        are well matched to their own cluster and poorly matched to neighboring clusters.\n",
        "        The score ranges from -1 to 1, where a score close to 1 indicates strong\n",
        "        clustering.\n",
        "\n",
        "        Parameters:\n",
        "            X (np.ndarray): The data points.\n",
        "            true_labels (np.ndarray): The true cluster labels.\n",
        "\n",
        "        Returns:\n",
        "            float: The silhouette score.\n",
        "        \"\"\"\n",
        "        cluster_assignments = self.predict(X)\n",
        "        return silhouette_score(X, np.argmax(cluster_assignments, axis=1))\n",
        "\n",
        "    def visualize(self, X, title=\"K-means Clustering\"):\n",
        "        \"\"\"\n",
        "        Visualizes the clustering results.\n",
        "\n",
        "        Parameters:\n",
        "            X (np.ndarray): The data points.\n",
        "            title (str): The title of the plot. Defaults to \"K-means Clustering\".\n",
        "        \"\"\"\n",
        "        plt.figure(figsize=(10, 6))\n",
        "        plt.scatter(X[:, 0], X[:, 1], c='lightgray', marker='o', label='Data points')\n",
        "        plt.scatter(self.centroids[:, 0], self.centroids[:, 1], c='red', marker='x', s=200, label='Centroids')\n",
        "        plt.title(title)\n",
        "        plt.xlabel('Feature 1')\n",
        "        plt.ylabel('Feature 2')\n",
        "        plt.legend()\n",
        "        plt.show()"
      ]
    },
    {
      "cell_type": "code",
      "execution_count": null,
      "metadata": {
        "deletable": false,
        "editable": false,
        "id": "LR9rGhnA-r3-"
      },
      "outputs": [],
      "source": [
        "# Simple Test- Generate Data, instantiate and fit KMeans\n",
        "def test_kmeans(num_clusters=4,visualize=True):\n",
        "  X_train, X_test, y_train, y_test = create_dataset(num_clusters)\n",
        "  kmeans = KMeans(num_clusters)\n",
        "  kmeans.fit(X_train)\n",
        "\n",
        "  # Calculate and print silhouette score for training and test sets\n",
        "  train_accuracy = kmeans.accuracy(X_train, y_train)\n",
        "  test_accuracy = kmeans.accuracy(X_test, y_test)\n",
        "  if visualize:\n",
        "    # Visualize the training results\n",
        "    kmeans.visualize(X_train, title=\"K-means Clustering (Training Set)\")\n",
        "    # Visualize the test results\n",
        "    kmeans.visualize(X_test, title=\"K-means Clustering (Test Set)\")\n",
        "    print(f'Silhouette Score (Training Set): {train_accuracy:.2f}')\n",
        "    print(f'Silhouette Score (Test Set): {test_accuracy:.2f}')\n",
        "  return train_accuracy,test_accuracy\n",
        "test_kmeans()"
      ]
    },
    {
      "cell_type": "markdown",
      "metadata": {
        "id": "3UyU_vfChZsd"
      },
      "source": [
        "## Feedback\n",
        "\n",
        "Please provide us with some feedback on how long each section or this homework overall took you. Any other feedback is also welcomed."
      ]
    },
    {
      "cell_type": "markdown",
      "metadata": {
        "id": "kVbMEfNuhZsd"
      },
      "source": [
        "## Submit\n",
        "Great work! You're all done.\n",
        "\n",
        "Make sure to submit this Python notebook. See the homework writeup for directions."
      ]
    }
  ],
  "metadata": {
    "colab": {
      "provenance": []
    },
    "kernelspec": {
      "display_name": "cs475",
      "language": "python",
      "name": "python3"
    },
    "language_info": {
      "codemirror_mode": {
        "name": "ipython",
        "version": 3
      },
      "file_extension": ".py",
      "mimetype": "text/x-python",
      "name": "python",
      "nbconvert_exporter": "python",
      "pygments_lexer": "ipython3",
      "version": "3.11.10"
    },
    "otter": {
      "OK_FORMAT": false,
      "assignment_name": "hw03",
      "tests": {
        "Kmean": "from otter.test_files import test_case\n\nOK_FORMAT = False\n\nname = \"Kmean\"\npoints = None\n\n@test_case(points=4, hidden=False, \n    success_message=\"K-mean (test case 1).\", \n    failure_message=\"K-mean (test case 1).\")\ndef test1(test_kmeans, np):\n    _,test_score1 = test_kmeans(visualize=False)\n    test_score1 = np.round(test_score1, 2)\n    print(test_score1)\n    assert test_score1 >= 0.5, f\"Test score {test_score1} is below 0.50\"\n@test_case(points=4, hidden=False, \n    success_message=\"K-mean (test case 1).\", \n    failure_message=\"K-mean (test case 1).\")\ndef test1(test_kmeans, np):\n    _,test_score1 = test_kmeans(visualize=False)\n    test_score1 = np.round(test_score1, 2)\n    print(test_score1)\n    assert test_score1 >= .75, f\"Test score {test_score1} is below 0.75\"\n@test_case(points=4, hidden=False, \n    success_message=\"K-mean (test case 1).\", \n    failure_message=\"K-mean (test case 1).\")\ndef test1(test_kmeans, np):\n    _,test_score1 = test_kmeans(visualize=False)\n    test_score1 = np.round(test_score1, 2)\n    print(test_score1)\n    assert test_score1 >= 0.8, f\"Test score {test_score1} is below 0.80\"\n",
        "Sum_product": "from otter.test_files import test_case\n\nOK_FORMAT = False\n\nname = \"Sum_product\"\npoints = None\n\n@test_case(points=3, hidden=False, \n    success_message=\"Test with only one node.\", \n    failure_message=\"Test with only one node..\")\ndef test_single_node(BeliefPropagation, Node, np):\n    root = Node(\"Root\", potential=np.array([0.7, 0.3]))\n    bp = BeliefPropagation(root)\n    root_marginal = bp.belief_propagation()\n\n\n    # Assert that the marginal equals the root potential\n    np.testing.assert_array_almost_equal(root_marginal, np.array([0.7, 0.3]), decimal=2)\n    assert np.sum(root_marginal) == 1.0,f\"Sum of the marginal should be 1.0, but got {np.sum(root_marginal)}\"\n\n@test_case(points=4, hidden=False, \n    success_message=\"Test with only one child node.\", \n    failure_message=\"Test with only one child node.\")\ndef test_one_child(BeliefPropagation, Node, np):\n    root = Node(\"Root\", potential=np.array([1.0, 0.0]))\n    child = Node(\"Child\", potential=np.array([0.6, 0.4]))\n    root.add_child(child)\n\n    bp = BeliefPropagation(root)\n    root_marginal = bp.belief_propagation()\n\n\n    # Assert expected marginal at the root\n    expected_marginal = np.array([1.0, 0.0])\n    np.testing.assert_array_almost_equal(root_marginal, expected_marginal,decimal=2)\n    assert np.sum(root_marginal) == 1.0,f\"Sum of the marginal should be 1.0, but got {np.sum(root_marginal)}\"\n\n@test_case(points=4, hidden=False, \n    success_message=\"Test with 3 full levels(binary).\", \n    failure_message=\"Test with 3 full levels(binary).\")\ndef test_three_level_tree(BeliefPropagation, Node, np):\n    # Create nodes for a three-level tree structure\n    root = Node(\"Root\")\n    child1 = Node(\"Child1\")\n    child2 = Node(\"Child2\")\n    leaf1 = Node(\"Leaf1\", potential=np.array([0.9, 0.1]))\n    leaf2 = Node(\"Leaf2\", potential=np.array([0.3, 0.7]))\n    leaf3 = Node(\"Leaf3\", potential=np.array([0.4, 0.6]))\n    leaf4 = Node(\"Leaf4\", potential=np.array([0.5, 0.5]))\n\n    # Build the tree structure\n    root.add_child(child1)\n    root.add_child(child2)\n    child1.add_child(leaf1)\n    child1.add_child(leaf2)\n    child2.add_child(leaf3)\n    child2.add_child(leaf4)\n\n    # Initialize belief propagation\n    bp = BeliefPropagation(root)\n\n    # Perform belief propagation to compute the marginal at the root\n    root_marginal = bp.belief_propagation()\n\n\n    # Calculate expected marginal based on children\n    expected_marginal = np.array([0.72, 0.28])  # After normalization\n    # Assert that the computed marginal matches the expected marginal\n    np.testing.assert_array_almost_equal(root_marginal, expected_marginal,decimal=2)\n    # Assert that the sum of the marginal is 1.0\n    assert np.sum(root_marginal) == 1.0,f\"Sum of the marginal should be 1.0, but got {np.sum(root_marginal)}\"\n\n@test_case(points=4, hidden=False, \n    success_message=\"Test with mixed children levels.\", \n    failure_message=\"Test with  mixed children levels.\")\n\ndef test_complex_tree_with_nested_children(BeliefPropagation, Node, np):\n    # Create nodes for a complex tree structure\n    root = Node(\"Root\")\n    child1 = Node(\"Child1\")\n    child2 = Node(\"Child2\")\n    child3 = Node(\"Child3\")\n\n    child1a = Node(\"Child1a\")  # This node has children\n    child1b = Node(\"Child1b\", potential=np.array([0.3, 0.7]))  # Leaf node\n    child2a = Node(\"Child2a\", potential=np.array([0.4, 0.6]))  # Leaf node\n\n    leaf1 = Node(\"Leaf1\", potential=np.array([0.2, 0.8]))\n    leaf2 = Node(\"Leaf2\", potential=np.array([0.6, 0.4]))\n    leaf3 = Node(\"Leaf3\", potential=np.array([0.7, 0.3]))  # Child3's leaf node\n    leaf4 = Node(\"Leaf4\", potential=np.array([0.1, 0.9]))\n\n    # Build the tree structure\n    root.add_child(child1)\n    root.add_child(child2)\n    root.add_child(child3)\n\n    child1.add_child(child1a)\n    child1.add_child(child1b)\n\n    child1a.add_child(leaf1)\n    child1a.add_child(leaf2)\n\n    child2.add_child(child2a)\n    child3.add_child(leaf3)\n    child3.add_child(leaf4)\n\n    # Initialize belief propagation\n    bp = BeliefPropagation(root)\n\n    # Perform belief propagation to compute the marginal at the root\n    root_marginal = bp.belief_propagation()\n    expected_marginal = np.array([0.027, 0.973])\n    # Assert that the computed marginal matches the expected marginal\n    np.testing.assert_array_almost_equal(root_marginal, expected_marginal,decimal = 2)\n    # Assert that the sum of the marginal is 1.0\n    assert np.sum(root_marginal) == 1.0,f\"Sum of the marginal should be 1.0, but got {np.sum(root_marginal)}\"\n"
      }
    },
    "varInspector": {
      "cols": {
        "lenName": 16,
        "lenType": 16,
        "lenVar": 40
      },
      "kernels_config": {
        "python": {
          "delete_cmd_postfix": "",
          "delete_cmd_prefix": "del ",
          "library": "var_list.py",
          "varRefreshCmd": "print(var_dic_list())"
        },
        "r": {
          "delete_cmd_postfix": ") ",
          "delete_cmd_prefix": "rm(",
          "library": "var_list.r",
          "varRefreshCmd": "cat(var_dic_list()) "
        }
      },
      "types_to_exclude": [
        "module",
        "function",
        "builtin_function_or_method",
        "instance",
        "_Feature"
      ],
      "window_display": false
    }
  },
  "nbformat": 4,
  "nbformat_minor": 0
}